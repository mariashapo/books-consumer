{
 "cells": [
  {
   "cell_type": "code",
   "execution_count": 8,
   "metadata": {},
   "outputs": [],
   "source": [
    "from flask import Flask, request, jsonify, render_template\n",
    "import requests\n",
    "\n",
    "service_url = \"http://book-api-server-vadim-mariia.h4h0dqcndhhch8ga.uksouth.azurecontainer.io:5000/books\"\n",
    "\n",
    "response = requests.get(service_url)\n",
    "books = response.json()\n",
    "\n",
    "genre = \"Dystopian\""
   ]
  },
  {
   "cell_type": "code",
   "execution_count": 9,
   "metadata": {},
   "outputs": [],
   "source": [
    "filtered_books = [book for book in books if str.lower(genre) in str.lower(book['genre'])]"
   ]
  },
  {
   "cell_type": "code",
   "execution_count": 10,
   "metadata": {},
   "outputs": [
    {
     "data": {
      "text/plain": [
       "[{'author': 'George Orwell',\n",
       "  'genre': 'Dystopian Fiction',\n",
       "  'id': 2,\n",
       "  'publication_year': 1949,\n",
       "  'title': '1984'},\n",
       " {'author': 'Suzanne Collins',\n",
       "  'genre': 'Young Adult Dystopian',\n",
       "  'id': 5,\n",
       "  'publication_year': 2008,\n",
       "  'title': 'The Hunger Games'}]"
      ]
     },
     "execution_count": 10,
     "metadata": {},
     "output_type": "execute_result"
    }
   ],
   "source": [
    "filtered_books"
   ]
  },
  {
   "cell_type": "code",
   "execution_count": null,
   "metadata": {},
   "outputs": [],
   "source": []
  }
 ],
 "metadata": {
  "kernelspec": {
   "display_name": "ml_course",
   "language": "python",
   "name": "python3"
  },
  "language_info": {
   "codemirror_mode": {
    "name": "ipython",
    "version": 3
   },
   "file_extension": ".py",
   "mimetype": "text/x-python",
   "name": "python",
   "nbconvert_exporter": "python",
   "pygments_lexer": "ipython3",
   "version": "3.11.5"
  }
 },
 "nbformat": 4,
 "nbformat_minor": 2
}
